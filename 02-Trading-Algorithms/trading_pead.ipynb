{
 "cells": [
  {
   "cell_type": "code",
   "execution_count": 1,
   "metadata": {},
   "outputs": [],
   "source": [
    "\n",
    "# create a list of numbers with the following string and obtain the mean \n",
    "x  = \"\"\"125\n",
    "\n",
    "127\n",
    "\n",
    "\n",
    "\n",
    "121\n",
    "\n",
    "\n",
    "135\n",
    "\n",
    "\n",
    "139\n",
    "\n",
    "\n",
    "131\n",
    "\n",
    "139\n",
    "\n",
    "\n",
    "137\n",
    "\n",
    "\n",
    "141\n",
    "\n",
    "\n",
    "143\n",
    "\n",
    "\n",
    "139\n",
    "\n",
    "\n",
    "145\n",
    "\n",
    "\n",
    "147\n",
    "\n",
    "\n",
    "148\n",
    "\n",
    "\n",
    "151\n",
    "\n",
    "\n",
    "153\"\"\""
   ]
  },
  {
   "cell_type": "code",
   "execution_count": 3,
   "metadata": {},
   "outputs": [
    {
     "data": {
      "text/plain": [
       "[125,\n",
       " 127,\n",
       " 121,\n",
       " 135,\n",
       " 139,\n",
       " 131,\n",
       " 139,\n",
       " 137,\n",
       " 141,\n",
       " 143,\n",
       " 139,\n",
       " 145,\n",
       " 147,\n",
       " 148,\n",
       " 151,\n",
       " 153]"
      ]
     },
     "execution_count": 3,
     "metadata": {},
     "output_type": "execute_result"
    }
   ],
   "source": [
    "list_numbers  = x.split(\"\\n\")\n",
    "list_numbers = [int(i) for i in list_numbers if i!= '']\n",
    "list_numbers"
   ]
  },
  {
   "cell_type": "code",
   "execution_count": 4,
   "metadata": {},
   "outputs": [
    {
     "data": {
      "text/plain": [
       "138.8125"
      ]
     },
     "execution_count": 4,
     "metadata": {},
     "output_type": "execute_result"
    }
   ],
   "source": [
    "import numpy as np \n",
    "\n",
    "np.mean(list_numbers)"
   ]
  },
  {
   "cell_type": "code",
   "execution_count": 7,
   "metadata": {},
   "outputs": [
    {
     "data": {
      "text/plain": [
       "137.9375"
      ]
     },
     "execution_count": 7,
     "metadata": {},
     "output_type": "execute_result"
    }
   ],
   "source": [
    "np.mean([120,\n",
    "127,121,135,135,131,139,137,140,143,139,145,143,148,151,153])"
   ]
  },
  {
   "cell_type": "code",
   "execution_count": 8,
   "metadata": {},
   "outputs": [
    {
     "data": {
      "text/plain": [
       "22.0625"
      ]
     },
     "execution_count": 8,
     "metadata": {},
     "output_type": "execute_result"
    }
   ],
   "source": [
    "160 - 137.9375"
   ]
  },
  {
   "cell_type": "code",
   "execution_count": null,
   "metadata": {},
   "outputs": [],
   "source": []
  },
  {
   "cell_type": "markdown",
   "metadata": {},
   "source": [
    "### Quiz "
   ]
  },
  {
   "cell_type": "code",
   "execution_count": 9,
   "metadata": {},
   "outputs": [],
   "source": [
    "ns = [120,127,121,135,135,131,139,137,140,143,139,145,143,148,151,153]"
   ]
  },
  {
   "cell_type": "markdown",
   "metadata": {},
   "source": []
  },
  {
   "cell_type": "code",
   "execution_count": 10,
   "metadata": {},
   "outputs": [
    {
     "data": {
      "text/plain": [
       "137.9375"
      ]
     },
     "execution_count": 10,
     "metadata": {},
     "output_type": "execute_result"
    }
   ],
   "source": [
    "# 1.0\n",
    "np.mean(ns)"
   ]
  },
  {
   "cell_type": "code",
   "execution_count": 11,
   "metadata": {},
   "outputs": [
    {
     "data": {
      "text/plain": [
       "17.0625"
      ]
     },
     "execution_count": 11,
     "metadata": {},
     "output_type": "execute_result"
    }
   ],
   "source": [
    "#2 \n",
    "actual = 155\n",
    "\n",
    "unexp_earnings = actual-np.mean(ns)\n",
    "unexp"
   ]
  },
  {
   "cell_type": "code",
   "execution_count": 21,
   "metadata": {},
   "outputs": [],
   "source": [
    "# 3 SUE standardized unexpected earnings \n",
    "\n",
    "SUE = (actual - np.mean(ns))/np.std(ns,ddof = 1)"
   ]
  },
  {
   "cell_type": "code",
   "execution_count": 22,
   "metadata": {},
   "outputs": [
    {
     "data": {
      "text/plain": [
       "1.7655454974066496"
      ]
     },
     "execution_count": 22,
     "metadata": {},
     "output_type": "execute_result"
    }
   ],
   "source": [
    "SUE"
   ]
  },
  {
   "cell_type": "code",
   "execution_count": null,
   "metadata": {},
   "outputs": [],
   "source": [
    "ANSWER: 176"
   ]
  },
  {
   "cell_type": "code",
   "execution_count": 16,
   "metadata": {},
   "outputs": [
    {
     "data": {
      "text/plain": [
       "152.33333333333334"
      ]
     },
     "execution_count": 16,
     "metadata": {},
     "output_type": "execute_result"
    }
   ],
   "source": [
    "# 4 Expected earnings for 2017\n",
    "\n",
    "analyst_exp_earns = [151,149,160,159,145,150]\n",
    "ee = np.mean(analyst_exp_earns)\n",
    "ee"
   ]
  },
  {
   "cell_type": "code",
   "execution_count": 18,
   "metadata": {},
   "outputs": [
    {
     "data": {
      "text/plain": [
       "2.666666666666657"
      ]
     },
     "execution_count": 18,
     "metadata": {},
     "output_type": "execute_result"
    }
   ],
   "source": [
    "# 5 Unexpected earnings \n",
    "# actual -ee\n",
    "\n",
    "155 -ee "
   ]
  },
  {
   "cell_type": "code",
   "execution_count": 20,
   "metadata": {},
   "outputs": [
    {
     "data": {
      "text/plain": [
       "0.450320263446436"
      ]
     },
     "execution_count": 20,
     "metadata": {},
     "output_type": "execute_result"
    }
   ],
   "source": [
    "#6 SUE standardized un-expected earnigns \n",
    "\n",
    "(155-ee)/np.std(analyst_exp_earns,ddof = 1)"
   ]
  },
  {
   "cell_type": "code",
   "execution_count": null,
   "metadata": {},
   "outputs": [],
   "source": [
    "#7 You modify the strategy and divide the firms into quintiles based on ascending order of SUE. What should you do with the lowest quintile and the highest quintile?\n",
    "\n",
    "Short the lowest qunitile and long the highest quintile\n",
    "\n",
    "\n"
   ]
  },
  {
   "cell_type": "code",
   "execution_count": null,
   "metadata": {},
   "outputs": [],
   "source": [
    "#8   What is the problem with long only Piotroski startegy?\n",
    "\n",
    "Exposure to Market risk\n",
    "\n"
   ]
  },
  {
   "cell_type": "code",
   "execution_count": null,
   "metadata": {},
   "outputs": [],
   "source": [
    "# 9  The stock price of company XYZ increases from Rs. 100 to Rs. 120 and that of company ABC decreases from Rs. 195 to Rs. 150. What will a person suffering from Disposition effect do?\n",
    "Sell XYZ and hold ABC\n"
   ]
  },
  {
   "cell_type": "code",
   "execution_count": null,
   "metadata": {},
   "outputs": [],
   "source": [
    "#10 What should be the holding period in case of PEAD?\n",
    "\n",
    "Around 2 months"
   ]
  },
  {
   "cell_type": "code",
   "execution_count": null,
   "metadata": {},
   "outputs": [],
   "source": []
  }
 ],
 "metadata": {
  "kernelspec": {
   "display_name": "base",
   "language": "python",
   "name": "python3"
  },
  "language_info": {
   "codemirror_mode": {
    "name": "ipython",
    "version": 3
   },
   "file_extension": ".py",
   "mimetype": "text/x-python",
   "name": "python",
   "nbconvert_exporter": "python",
   "pygments_lexer": "ipython3",
   "version": "3.9.13"
  }
 },
 "nbformat": 4,
 "nbformat_minor": 2
}
